{
 "cells": [
  {
   "cell_type": "code",
   "execution_count": 1,
   "metadata": {},
   "outputs": [],
   "source": [
    "import torch\n",
    "import torch.nn.functional as F\n",
    "import matplotlib.pyplot as plt\n",
    "%matplotlib inline"
   ]
  },
  {
   "cell_type": "markdown",
   "metadata": {},
   "source": [
    "## Dataset Preparation"
   ]
  },
  {
   "cell_type": "code",
   "execution_count": 2,
   "metadata": {},
   "outputs": [],
   "source": [
    "data_path = \"../data/\"\n",
    "data_file = data_path + \"names.txt\"\n",
    "\n",
    "words = open(data_file, 'r').read().splitlines()"
   ]
  },
  {
   "cell_type": "code",
   "execution_count": 3,
   "metadata": {},
   "outputs": [],
   "source": [
    "# Create a dictionary to map characters to indices (\"string-to-index\")\n",
    "chars = sorted(list(set(''.join(words))))\n",
    "s_to_i = {s: i+1 for i, s in enumerate(chars)}\n",
    "\n",
    "# Include a special character -  we use '.' instead of having both <S> and <E>\n",
    "s_to_i['.'] = 0\n",
    "\n",
    "# Create a dictionary to map indices to characters (\"index-to-string\")\n",
    "i_to_s = {i: ch for ch, i in s_to_i.items()}"
   ]
  },
  {
   "cell_type": "code",
   "execution_count": 4,
   "metadata": {},
   "outputs": [],
   "source": [
    "# Create training set of bigrams (x, y)\n",
    "# Currently limited to just the first 5 characters, \".emma\"\n",
    "\n",
    "xs, ys = [], []\n",
    "\n",
    "for w in words[:1]:\n",
    "    chs = ['.'] + list(w) + ['.']\n",
    "    for ch1, ch2 in zip(chs, chs[1:]):\n",
    "        ix1 = s_to_i[ch1]\n",
    "        ix2 = s_to_i[ch2]\n",
    "        xs.append(ix1)\n",
    "        ys.append(ix2)\n",
    "\n",
    "xs = torch.tensor(xs)\n",
    "ys = torch.tensor(ys)"
   ]
  },
  {
   "cell_type": "code",
   "execution_count": 5,
   "metadata": {},
   "outputs": [
    {
     "name": "stdout",
     "output_type": "stream",
     "text": [
      ". e 0 5\n",
      "e m 5 13\n",
      "m m 13 13\n",
      "m a 13 1\n",
      "a . 1 0\n"
     ]
    }
   ],
   "source": [
    "for i in range(5):\n",
    "    print(i_to_s[xs[i].item()], i_to_s[ys[i].item()], xs[i].item(), ys[i].item())"
   ]
  },
  {
   "cell_type": "markdown",
   "metadata": {},
   "source": [
    "### One-hot Encodings"
   ]
  },
  {
   "cell_type": "code",
   "execution_count": 6,
   "metadata": {},
   "outputs": [],
   "source": [
    "num_classes = len(s_to_i)\n",
    "\n",
    "x_enc = F.one_hot(xs, num_classes=num_classes).float() # necessary to cast to float\n",
    "y_enc = F.one_hot(ys, num_classes=num_classes).float()"
   ]
  },
  {
   "cell_type": "code",
   "execution_count": 7,
   "metadata": {},
   "outputs": [
    {
     "name": "stdout",
     "output_type": "stream",
     "text": [
      "torch.Size([5, 27])\n",
      "tensor([[1., 0., 0., 0., 0., 0., 0., 0., 0., 0., 0., 0., 0., 0., 0., 0., 0., 0.,\n",
      "         0., 0., 0., 0., 0., 0., 0., 0., 0.],\n",
      "        [0., 0., 0., 0., 0., 1., 0., 0., 0., 0., 0., 0., 0., 0., 0., 0., 0., 0.,\n",
      "         0., 0., 0., 0., 0., 0., 0., 0., 0.],\n",
      "        [0., 0., 0., 0., 0., 0., 0., 0., 0., 0., 0., 0., 0., 1., 0., 0., 0., 0.,\n",
      "         0., 0., 0., 0., 0., 0., 0., 0., 0.],\n",
      "        [0., 0., 0., 0., 0., 0., 0., 0., 0., 0., 0., 0., 0., 1., 0., 0., 0., 0.,\n",
      "         0., 0., 0., 0., 0., 0., 0., 0., 0.],\n",
      "        [0., 1., 0., 0., 0., 0., 0., 0., 0., 0., 0., 0., 0., 0., 0., 0., 0., 0.,\n",
      "         0., 0., 0., 0., 0., 0., 0., 0., 0.]])\n"
     ]
    }
   ],
   "source": [
    "print(x_enc.shape)\n",
    "print(x_enc[:10])"
   ]
  },
  {
   "cell_type": "code",
   "execution_count": 8,
   "metadata": {},
   "outputs": [
    {
     "data": {
      "image/png": "[encoded data removed]",
      "text/plain": [
       "<Figure size 640x480 with 1 Axes>"
      ]
     },
     "metadata": {},
     "output_type": "display_data"
    }
   ],
   "source": [
    "# A look at the first example, \".emma\"\n",
    "plt.imshow(x_enc)\n",
    "plt.show()"
   ]
  },
  {
   "cell_type": "markdown",
   "metadata": {},
   "source": [
    "### Logits"
   ]
  },
  {
   "cell_type": "code",
   "execution_count": 9,
   "metadata": {},
   "outputs": [
    {
     "name": "stdout",
     "output_type": "stream",
     "text": [
      "torch.Size([5, 27])\n",
      "tensor([[ 1.5161,  0.2518, -0.8134, -1.5261,  0.0199,  1.3987, -0.6605,  1.5468,\n",
      "         -1.4619,  1.3608,  0.1123, -0.7030, -0.0729, -0.3481,  0.4221, -0.3084,\n",
      "         -0.0906, -0.2959, -0.4079,  0.3095,  0.5801, -1.3938,  0.0429, -0.8249,\n",
      "          0.2482,  0.8125,  1.4743],\n",
      "        [-1.4768,  1.0658, -0.0847,  0.4306, -0.1614, -1.6583,  0.5668,  0.1087,\n",
      "         -0.5050,  0.5605,  1.4606, -0.0486,  0.4431, -0.8257,  1.6714,  0.3401,\n",
      "         -1.4550, -0.0719,  0.2468, -0.2624,  1.0457, -1.1185,  1.2681, -1.4233,\n",
      "          1.0308,  1.6871, -2.0817],\n",
      "        [-3.6138, -1.1762,  0.0248, -0.9052,  0.0333,  0.2542, -1.3890,  0.1746,\n",
      "         -1.8498, -1.1404, -0.5274,  2.2010, -0.5007, -0.2414, -0.0913, -0.1108,\n",
      "         -0.4225, -0.2936,  0.4787, -1.0636,  1.2015,  0.7441, -0.3593, -2.7035,\n",
      "          0.0993, -0.8035,  0.9771],\n",
      "        [-3.6138, -1.1762,  0.0248, -0.9052,  0.0333,  0.2542, -1.3890,  0.1746,\n",
      "         -1.8498, -1.1404, -0.5274,  2.2010, -0.5007, -0.2414, -0.0913, -0.1108,\n",
      "         -0.4225, -0.2936,  0.4787, -1.0636,  1.2015,  0.7441, -0.3593, -2.7035,\n",
      "          0.0993, -0.8035,  0.9771],\n",
      "        [-3.1554, -0.9987,  0.4605,  1.2044, -0.2920, -0.4695,  0.9029,  0.9308,\n",
      "          0.9137, -0.6340, -0.6091, -1.0254,  0.5976,  0.1487,  0.3892, -0.8174,\n",
      "         -1.0337,  0.2017,  0.0515, -0.0456, -0.8848,  0.0570,  0.8093, -0.3653,\n",
      "         -0.8681, -0.4622, -0.1539]])\n"
     ]
    }
   ],
   "source": [
    "# Testing a multiplication with a weight matrix\n",
    "W = torch.randn(num_classes, num_classes)\n",
    "logits = x_enc @ W\n",
    "\n",
    "# This should be 5x27:\n",
    "# (5, 27) @ (27, 27) -> (5, 27)\n",
    "print(logits.shape)\n",
    "print(logits)"
   ]
  },
  {
   "cell_type": "code",
   "execution_count": 10,
   "metadata": {},
   "outputs": [
    {
     "data": {
      "text/plain": [
       "tensor(-0.2414)"
      ]
     },
     "execution_count": 10,
     "metadata": {},
     "output_type": "execute_result"
    }
   ],
   "source": [
    "# Looking at one logit\n",
    "logits[3, 13] # 4th example, 14th class"
   ]
  },
  {
   "cell_type": "code",
   "execution_count": 11,
   "metadata": {},
   "outputs": [
    {
     "name": "stdout",
     "output_type": "stream",
     "text": [
      "tensor([-0.0000,  0.0000, -0.0000,  0.0000,  0.0000, -0.0000,  0.0000, -0.0000,\n",
      "         0.0000, -0.0000, -0.0000, -0.0000, -0.0000, -0.2414,  0.0000,  0.0000,\n",
      "         0.0000, -0.0000, -0.0000, -0.0000, -0.0000, -0.0000,  0.0000, -0.0000,\n",
      "         0.0000,  0.0000,  0.0000])\n",
      "tensor(-0.2414)\n"
     ]
    }
   ],
   "source": [
    "# Reminder that each such logit is a sum of the products of the one-hot \n",
    "# encoded input and the corresponding row of the weight matrix\n",
    "print(x_enc[3] * W[:, 13])\n",
    "print((x_enc[3] * W[:, 13]).sum())"
   ]
  },
  {
   "cell_type": "markdown",
   "metadata": {},
   "source": [
    "### Softmax"
   ]
  },
  {
   "cell_type": "code",
   "execution_count": 12,
   "metadata": {},
   "outputs": [
    {
     "data": {
      "text/plain": [
       "tensor([[4.5545, 1.2863, 0.4433, 0.2174, 1.0201, 4.0501, 0.5166, 4.6966, 0.2318,\n",
       "         3.8992, 1.1189, 0.4951, 0.9297, 0.7061, 1.5252, 0.7346, 0.9134, 0.7439,\n",
       "         0.6650, 1.3627, 1.7862, 0.2481, 1.0439, 0.4383, 1.2818, 2.2535, 4.3680],\n",
       "        [0.2284, 2.9032, 0.9188, 1.5382, 0.8509, 0.1905, 1.7626, 1.1148, 0.6035,\n",
       "         1.7516, 4.3085, 0.9526, 1.5576, 0.4379, 5.3195, 1.4051, 0.2334, 0.9306,\n",
       "         1.2799, 0.7692, 2.8455, 0.3268, 3.5542, 0.2409, 2.8033, 5.4039, 0.1247],\n",
       "        [0.0269, 0.3085, 1.0252, 0.4045, 1.0339, 1.2894, 0.2493, 1.1907, 0.1573,\n",
       "         0.3197, 0.5901, 9.0343, 0.6061, 0.7856, 0.9128, 0.8952, 0.6554, 0.7455,\n",
       "         1.6139, 0.3452, 3.3252, 2.1045, 0.6982, 0.0670, 1.1044, 0.4478, 2.6566],\n",
       "        [0.0269, 0.3085, 1.0252, 0.4045, 1.0339, 1.2894, 0.2493, 1.1907, 0.1573,\n",
       "         0.3197, 0.5901, 9.0343, 0.6061, 0.7856, 0.9128, 0.8952, 0.6554, 0.7455,\n",
       "         1.6139, 0.3452, 3.3252, 2.1045, 0.6982, 0.0670, 1.1044, 0.4478, 2.6566],\n",
       "        [0.0426, 0.3683, 1.5849, 3.3347, 0.7467, 0.6253, 2.4666, 2.5366, 2.4935,\n",
       "         0.5305, 0.5438, 0.3587, 1.8178, 1.1603, 1.4758, 0.4416, 0.3557, 1.2235,\n",
       "         1.0528, 0.9554, 0.4128, 1.0586, 2.2463, 0.6940, 0.4197, 0.6299, 0.8574]])"
      ]
     },
     "execution_count": 12,
     "metadata": {},
     "output_type": "execute_result"
    }
   ],
   "source": [
    "# We can consider the logits here \"log counts\" of the bigrams\n",
    "# We can see this more clearly by exponentiating the logits\n",
    "# This makes all numbers positive\n",
    "\n",
    "# This is equivalent to the N matrix from the statistical model notebook\n",
    "\n",
    "counts = logits.exp()\n",
    "counts"
   ]
  },
  {
   "cell_type": "code",
   "execution_count": 13,
   "metadata": {},
   "outputs": [
    {
     "data": {
      "text/plain": [
       "tensor([[0.1097, 0.0310, 0.0107, 0.0052, 0.0246, 0.0975, 0.0124, 0.1131, 0.0056,\n",
       "         0.0939, 0.0269, 0.0119, 0.0224, 0.0170, 0.0367, 0.0177, 0.0220, 0.0179,\n",
       "         0.0160, 0.0328, 0.0430, 0.0060, 0.0251, 0.0106, 0.0309, 0.0543, 0.1052],\n",
       "        [0.0051, 0.0655, 0.0207, 0.0347, 0.0192, 0.0043, 0.0397, 0.0251, 0.0136,\n",
       "         0.0395, 0.0971, 0.0215, 0.0351, 0.0099, 0.1199, 0.0317, 0.0053, 0.0210,\n",
       "         0.0289, 0.0173, 0.0642, 0.0074, 0.0801, 0.0054, 0.0632, 0.1218, 0.0028],\n",
       "        [0.0008, 0.0095, 0.0315, 0.0124, 0.0317, 0.0396, 0.0076, 0.0365, 0.0048,\n",
       "         0.0098, 0.0181, 0.2772, 0.0186, 0.0241, 0.0280, 0.0275, 0.0201, 0.0229,\n",
       "         0.0495, 0.0106, 0.1020, 0.0646, 0.0214, 0.0021, 0.0339, 0.0137, 0.0815],\n",
       "        [0.0008, 0.0095, 0.0315, 0.0124, 0.0317, 0.0396, 0.0076, 0.0365, 0.0048,\n",
       "         0.0098, 0.0181, 0.2772, 0.0186, 0.0241, 0.0280, 0.0275, 0.0201, 0.0229,\n",
       "         0.0495, 0.0106, 0.1020, 0.0646, 0.0214, 0.0021, 0.0339, 0.0137, 0.0815],\n",
       "        [0.0014, 0.0121, 0.0521, 0.1096, 0.0245, 0.0205, 0.0810, 0.0833, 0.0819,\n",
       "         0.0174, 0.0179, 0.0118, 0.0597, 0.0381, 0.0485, 0.0145, 0.0117, 0.0402,\n",
       "         0.0346, 0.0314, 0.0136, 0.0348, 0.0738, 0.0228, 0.0138, 0.0207, 0.0282]])"
      ]
     },
     "execution_count": 13,
     "metadata": {},
     "output_type": "execute_result"
    }
   ],
   "source": [
    "# Converting the log counts to probabilities summing to 1\n",
    "probs = counts / counts.sum(dim=1, keepdims=True)\n",
    "probs"
   ]
  },
  {
   "cell_type": "markdown",
   "metadata": {},
   "source": [
    "## Summary So Far"
   ]
  },
  {
   "cell_type": "code",
   "execution_count": 14,
   "metadata": {},
   "outputs": [],
   "source": [
    "# randomly initialize 27 neurons' weights. each neuron receives 27 inputs\n",
    "g = torch.Generator().manual_seed(2147483647)\n",
    "W = torch.randn(num_classes, num_classes, generator=g)\n",
    "\n",
    "x_enc = F.one_hot(xs, num_classes=num_classes).float() # input to the network: one-hot encodings\n",
    "y_enc = F.one_hot(ys, num_classes=num_classes).float()"
   ]
  },
  {
   "cell_type": "code",
   "execution_count": 15,
   "metadata": {},
   "outputs": [],
   "source": [
    "# Calculate the logits for all bigrams\n",
    "logits = x_enc @ W # predict log-counts\n",
    "\n",
    "# Softmax\n",
    "counts = torch.exp(logits) # counts, equivalent to N\n",
    "probs = counts / counts.sum(dim=1, keepdims=True) # probabilities for next character"
   ]
  },
  {
   "cell_type": "code",
   "execution_count": 16,
   "metadata": {},
   "outputs": [
    {
     "name": "stdout",
     "output_type": "stream",
     "text": [
      "--------\n",
      "bigram example 1: .e (indexes 0,5)\n",
      "input to the neural net: 0\n",
      "output probabilities from the neural net: tensor([0.0607, 0.0100, 0.0123, 0.0042, 0.0168, 0.0123, 0.0027, 0.0232, 0.0137,\n",
      "        0.0313, 0.0079, 0.0278, 0.0091, 0.0082, 0.0500, 0.2378, 0.0603, 0.0025,\n",
      "        0.0249, 0.0055, 0.0339, 0.0109, 0.0029, 0.0198, 0.0118, 0.1537, 0.1459])\n",
      "label (actual next character): 5\n",
      "probability assigned by the net to the the correct character: 0.01228625513613224\n",
      "log likelihood: -4.399273872375488\n",
      "negative log likelihood: 4.399273872375488\n",
      "--------\n",
      "bigram example 2: em (indexes 5,13)\n",
      "input to the neural net: 5\n",
      "output probabilities from the neural net: tensor([0.0290, 0.0796, 0.0248, 0.0521, 0.1989, 0.0289, 0.0094, 0.0335, 0.0097,\n",
      "        0.0301, 0.0702, 0.0228, 0.0115, 0.0181, 0.0108, 0.0315, 0.0291, 0.0045,\n",
      "        0.0916, 0.0215, 0.0486, 0.0300, 0.0501, 0.0027, 0.0118, 0.0022, 0.0472])\n",
      "label (actual next character): 13\n",
      "probability assigned by the net to the the correct character: 0.018050700426101685\n",
      "log likelihood: -4.014570713043213\n",
      "negative log likelihood: 4.014570713043213\n",
      "--------\n",
      "bigram example 3: mm (indexes 13,13)\n",
      "input to the neural net: 13\n",
      "output probabilities from the neural net: tensor([0.0312, 0.0737, 0.0484, 0.0333, 0.0674, 0.0200, 0.0263, 0.0249, 0.1226,\n",
      "        0.0164, 0.0075, 0.0789, 0.0131, 0.0267, 0.0147, 0.0112, 0.0585, 0.0121,\n",
      "        0.0650, 0.0058, 0.0208, 0.0078, 0.0133, 0.0203, 0.1204, 0.0469, 0.0126])\n",
      "label (actual next character): 13\n",
      "probability assigned by the net to the the correct character: 0.026691533625125885\n",
      "log likelihood: -3.623408794403076\n",
      "negative log likelihood: 3.623408794403076\n",
      "--------\n",
      "bigram example 4: ma (indexes 13,1)\n",
      "input to the neural net: 13\n",
      "output probabilities from the neural net: tensor([0.0312, 0.0737, 0.0484, 0.0333, 0.0674, 0.0200, 0.0263, 0.0249, 0.1226,\n",
      "        0.0164, 0.0075, 0.0789, 0.0131, 0.0267, 0.0147, 0.0112, 0.0585, 0.0121,\n",
      "        0.0650, 0.0058, 0.0208, 0.0078, 0.0133, 0.0203, 0.1204, 0.0469, 0.0126])\n",
      "label (actual next character): 1\n",
      "probability assigned by the net to the the correct character: 0.07367686182260513\n",
      "log likelihood: -2.6080665588378906\n",
      "negative log likelihood: 2.6080665588378906\n",
      "--------\n",
      "bigram example 5: a. (indexes 1,0)\n",
      "input to the neural net: 1\n",
      "output probabilities from the neural net: tensor([0.0150, 0.0086, 0.0396, 0.0100, 0.0606, 0.0308, 0.1084, 0.0131, 0.0125,\n",
      "        0.0048, 0.1024, 0.0086, 0.0988, 0.0112, 0.0232, 0.0207, 0.0408, 0.0078,\n",
      "        0.0899, 0.0531, 0.0463, 0.0309, 0.0051, 0.0329, 0.0654, 0.0503, 0.0091])\n",
      "label (actual next character): 0\n",
      "probability assigned by the net to the the correct character: 0.014977526850998402\n",
      "log likelihood: -4.201204299926758\n",
      "negative log likelihood: 4.201204299926758\n",
      "=========\n",
      "average negative log likelihood, i.e. loss = 3.7693049907684326\n"
     ]
    }
   ],
   "source": [
    "# examining \".emma\"\n",
    "# Note high nll when the model assigns low likelihood to the correct character\n",
    "\n",
    "nlls = torch.zeros(5)\n",
    "for i in range(5):\n",
    "    # i-th bigram:\n",
    "    x = xs[i].item() # input character index\n",
    "    y = ys[i].item() # label character index\n",
    "    print('--------')\n",
    "    print(f'bigram example {i+1}: {i_to_s[x]}{i_to_s[y]} (indexes {x},{y})')\n",
    "    print('input to the neural net:', x)\n",
    "    print('output probabilities from the neural net:', probs[i])\n",
    "    print('label (actual next character):', y)\n",
    "    p = probs[i, y]\n",
    "    print('probability assigned by the net to the the correct character:', p.item())\n",
    "    logp = torch.log(p)\n",
    "    print('log likelihood:', logp.item())\n",
    "    nll = -logp\n",
    "    print('negative log likelihood:', nll.item())\n",
    "    nlls[i] = nll\n",
    "\n",
    "print('=========')\n",
    "print('average negative log likelihood, i.e. loss =', nlls.mean().item())"
   ]
  },
  {
   "cell_type": "markdown",
   "metadata": {},
   "source": [
    "## Training the Network"
   ]
  },
  {
   "cell_type": "code",
   "execution_count": 17,
   "metadata": {},
   "outputs": [],
   "source": [
    "x_enc = F.one_hot(xs, num_classes=num_classes).float()\n",
    "y_enc = F.one_hot(ys, num_classes=num_classes).float()\n",
    "\n",
    "g = torch.Generator().manual_seed(2147483647)\n",
    "W = torch.randn(num_classes, num_classes, generator=g, requires_grad=True)"
   ]
  },
  {
   "cell_type": "code",
   "execution_count": 18,
   "metadata": {},
   "outputs": [
    {
     "data": {
      "text/plain": [
       "tensor([0.0123, 0.0181, 0.0267, 0.0737, 0.0150])"
      ]
     },
     "execution_count": 18,
     "metadata": {},
     "output_type": "execute_result"
    }
   ],
   "source": [
    "# To evaluate training, we can look at the probabilities of the characters we want to predict\n",
    "# In this case, we look at y for each character in .emma\n",
    "\n",
    "probs[torch.arange(5), ys]"
   ]
  },
  {
   "cell_type": "code",
   "execution_count": 19,
   "metadata": {},
   "outputs": [
    {
     "data": {
      "text/plain": [
       "tensor(3.7693)"
      ]
     },
     "execution_count": 19,
     "metadata": {},
     "output_type": "execute_result"
    }
   ],
   "source": [
    "# Negative average log likelihood for this example:\n",
    "-probs[torch.arange(5), ys].log().mean()"
   ]
  },
  {
   "cell_type": "code",
   "execution_count": 20,
   "metadata": {},
   "outputs": [],
   "source": [
    "# Forward pass\n",
    "\n",
    "logits = x_enc @ W\n",
    "counts = logits.exp()\n",
    "probs = counts / counts.sum(dim=1, keepdims=True)\n",
    "loss = -probs[torch.arange(len(ys)), ys].log().mean()   "
   ]
  },
  {
   "cell_type": "code",
   "execution_count": 21,
   "metadata": {},
   "outputs": [],
   "source": [
    "# Backward pass\n",
    "W.grad = None # how to set gradient to zero in PyTorch\n",
    "loss.backward()"
   ]
  },
  {
   "cell_type": "code",
   "execution_count": 22,
   "metadata": {},
   "outputs": [],
   "source": [
    "# Update\n",
    "W.data += -0.1 * W.grad"
   ]
  },
  {
   "cell_type": "code",
   "execution_count": 23,
   "metadata": {},
   "outputs": [
    {
     "name": "stdout",
     "output_type": "stream",
     "text": [
      "3.7693049907684326\n",
      "3.7492127418518066\n"
     ]
    }
   ],
   "source": [
    "# Do another forward pass with the new data and compare with the previous loss\n",
    "print(loss.item())\n",
    "\n",
    "logits = x_enc @ W\n",
    "counts = logits.exp()\n",
    "probs = counts / counts.sum(dim=1, keepdims=True)\n",
    "loss = -probs[torch.arange(len(ys)), ys].log().mean()   \n",
    "\n",
    "print(loss.item())"
   ]
  },
  {
   "cell_type": "markdown",
   "metadata": {},
   "source": [
    "Can then perform another backward pass, etc."
   ]
  },
  {
   "cell_type": "markdown",
   "metadata": {},
   "source": [
    "## Training With a Training Loop"
   ]
  },
  {
   "cell_type": "code",
   "execution_count": 24,
   "metadata": {},
   "outputs": [
    {
     "name": "stdout",
     "output_type": "stream",
     "text": [
      "step 0: loss = 3.7686190605163574\n",
      "step 1: loss = 3.3788068294525146\n",
      "step 2: loss = 3.161090850830078\n",
      "step 3: loss = 3.027186155319214\n",
      "step 4: loss = 2.9344842433929443\n",
      "step 5: loss = 2.8672313690185547\n",
      "step 6: loss = 2.816654682159424\n",
      "step 7: loss = 2.777146577835083\n",
      "step 8: loss = 2.745253801345825\n",
      "step 9: loss = 2.7188303470611572\n",
      "step 10: loss = 2.6965057849884033\n",
      "step 11: loss = 2.6773719787597656\n",
      "step 12: loss = 2.6608052253723145\n",
      "step 13: loss = 2.6463515758514404\n",
      "step 14: loss = 2.633665084838867\n",
      "step 15: loss = 2.622471570968628\n",
      "step 16: loss = 2.6125476360321045\n",
      "step 17: loss = 2.6037068367004395\n",
      "step 18: loss = 2.595794916152954\n",
      "step 19: loss = 2.5886809825897217\n",
      "step 20: loss = 2.582256317138672\n",
      "step 21: loss = 2.5764293670654297\n",
      "step 22: loss = 2.5711238384246826\n",
      "step 23: loss = 2.566272735595703\n",
      "step 24: loss = 2.5618226528167725\n",
      "step 25: loss = 2.5577263832092285\n",
      "step 26: loss = 2.5539445877075195\n",
      "step 27: loss = 2.550442695617676\n",
      "step 28: loss = 2.5471925735473633\n",
      "step 29: loss = 2.5441696643829346\n",
      "step 30: loss = 2.5413525104522705\n",
      "step 31: loss = 2.538721799850464\n",
      "step 32: loss = 2.536262035369873\n",
      "step 33: loss = 2.5339581966400146\n",
      "step 34: loss = 2.531797409057617\n",
      "step 35: loss = 2.5297679901123047\n",
      "step 36: loss = 2.527860164642334\n",
      "step 37: loss = 2.5260636806488037\n",
      "step 38: loss = 2.5243709087371826\n",
      "step 39: loss = 2.522773265838623\n",
      "step 40: loss = 2.521263837814331\n",
      "step 41: loss = 2.519836664199829\n",
      "step 42: loss = 2.5184855461120605\n",
      "step 43: loss = 2.517204999923706\n",
      "step 44: loss = 2.515990734100342\n",
      "step 45: loss = 2.5148372650146484\n",
      "step 46: loss = 2.5137410163879395\n",
      "step 47: loss = 2.512697696685791\n",
      "step 48: loss = 2.511704921722412\n",
      "step 49: loss = 2.5107579231262207\n",
      "step 50: loss = 2.509854793548584\n",
      "step 51: loss = 2.5089924335479736\n",
      "step 52: loss = 2.5081682205200195\n",
      "step 53: loss = 2.507380247116089\n",
      "step 54: loss = 2.5066258907318115\n",
      "step 55: loss = 2.5059030055999756\n",
      "step 56: loss = 2.5052108764648438\n",
      "step 57: loss = 2.5045459270477295\n",
      "step 58: loss = 2.503908157348633\n",
      "step 59: loss = 2.503295421600342\n",
      "step 60: loss = 2.502706289291382\n",
      "step 61: loss = 2.5021398067474365\n",
      "step 62: loss = 2.5015945434570312\n",
      "step 63: loss = 2.5010693073272705\n",
      "step 64: loss = 2.500562906265259\n",
      "step 65: loss = 2.500075578689575\n",
      "step 66: loss = 2.4996049404144287\n",
      "step 67: loss = 2.499150514602661\n",
      "step 68: loss = 2.4987120628356934\n",
      "step 69: loss = 2.49828839302063\n",
      "step 70: loss = 2.4978787899017334\n",
      "step 71: loss = 2.497483015060425\n",
      "step 72: loss = 2.4970998764038086\n",
      "step 73: loss = 2.4967286586761475\n",
      "step 74: loss = 2.496370315551758\n",
      "step 75: loss = 2.496022939682007\n",
      "step 76: loss = 2.4956860542297363\n",
      "step 77: loss = 2.4953596591949463\n",
      "step 78: loss = 2.4950432777404785\n",
      "step 79: loss = 2.4947361946105957\n",
      "step 80: loss = 2.494438648223877\n",
      "step 81: loss = 2.494149684906006\n",
      "step 82: loss = 2.4938690662384033\n",
      "step 83: loss = 2.4935967922210693\n",
      "step 84: loss = 2.4933321475982666\n",
      "step 85: loss = 2.493074893951416\n",
      "step 86: loss = 2.4928252696990967\n",
      "step 87: loss = 2.492582321166992\n",
      "step 88: loss = 2.4923462867736816\n",
      "step 89: loss = 2.492116928100586\n",
      "step 90: loss = 2.4918932914733887\n",
      "step 91: loss = 2.491675853729248\n",
      "step 92: loss = 2.491464376449585\n",
      "step 93: loss = 2.491258144378662\n",
      "step 94: loss = 2.491058111190796\n",
      "step 95: loss = 2.4908626079559326\n",
      "step 96: loss = 2.4906723499298096\n",
      "step 97: loss = 2.4904870986938477\n",
      "step 98: loss = 2.4903063774108887\n",
      "step 99: loss = 2.4901304244995117\n"
     ]
    }
   ],
   "source": [
    "# Hyperparameters\n",
    "\n",
    "num_steps = 100\n",
    "learning_rate = 50 # seems a large one works fine for this task\n",
    "reg_coefficient = 0.01 # regularization coefficient; high is like adding more counts to smoothing\n",
    "\n",
    "# Create full-size training set of bigrams (x, y)\n",
    "\n",
    "xs, ys = [], []\n",
    "\n",
    "for w in words:\n",
    "    chs = ['.'] + list(w) + ['.']\n",
    "    for ch1, ch2 in zip(chs, chs[1:]):\n",
    "        ix1 = s_to_i[ch1]\n",
    "        ix2 = s_to_i[ch2]\n",
    "        xs.append(ix1)\n",
    "        ys.append(ix2)\n",
    "\n",
    "xs = torch.tensor(xs)\n",
    "ys = torch.tensor(ys)\n",
    "\n",
    "x_enc = F.one_hot(xs, num_classes=num_classes).float()\n",
    "y_enc = F.one_hot(ys, num_classes=num_classes).float()\n",
    "\n",
    "# Randomly initialize the weight matrix\n",
    "\n",
    "g = torch.Generator().manual_seed(2147483647)\n",
    "W = torch.randn(num_classes, num_classes, generator=g, requires_grad=True)\n",
    "\n",
    "# Keep track of data for plotting\n",
    "losses = []\n",
    "\n",
    "# Training loop\n",
    "for i in range(num_steps):\n",
    "    # Forward pass\n",
    "    logits = x_enc @ W\n",
    "    counts = logits.exp()\n",
    "    probs = counts / counts.sum(dim=1, keepdims=True)\n",
    "    loss = -probs[torch.arange(len(ys)), ys].log().mean()\n",
    "    # Regularization\n",
    "    loss += reg_coefficient * (W ** 2).mean()\n",
    "    losses.append(loss.item())\n",
    "    print(f'step {i}: loss = {loss.item()}')\n",
    "\n",
    "    # Backward pass\n",
    "    W.grad = None\n",
    "    loss.backward()\n",
    "\n",
    "    # Update\n",
    "    W.data += -learning_rate * W.grad"
   ]
  },
  {
   "cell_type": "code",
   "execution_count": 25,
   "metadata": {},
   "outputs": [
    {
     "data": {
      "image/png": "[encoded data removed]",
      "text/plain": [
       "<Figure size 640x480 with 1 Axes>"
      ]
     },
     "metadata": {},
     "output_type": "display_data"
    }
   ],
   "source": [
    "# Plot loss\n",
    "plt.plot(losses)\n",
    "plt.show()"
   ]
  },
  {
   "cell_type": "markdown",
   "metadata": {},
   "source": [
    "## Sampling from the Neural Network"
   ]
  },
  {
   "cell_type": "code",
   "execution_count": 26,
   "metadata": {},
   "outputs": [
    {
     "name": "stdout",
     "output_type": "stream",
     "text": [
      "junide.\n",
      "janasah.\n",
      "p.\n",
      "cfay.\n",
      "a.\n"
     ]
    }
   ],
   "source": [
    "g = torch.Generator().manual_seed(2147483647)\n",
    "\n",
    "\n",
    "for i in range(5):\n",
    "    out = []\n",
    "    ix = 0\n",
    "    while True:\n",
    "        x_enc = F.one_hot(torch.tensor([ix]), num_classes=num_classes).float()\n",
    "        logits = x_enc @ W\n",
    "        counts = logits.exp()\n",
    "        probs = counts / counts.sum(1, keepdims=True)\n",
    "        ix = torch.multinomial(probs, num_samples=1, replacement=True, generator=g).item()\n",
    "        out.append(i_to_s[ix])\n",
    "        if ix == 0:\n",
    "            break\n",
    "\n",
    "    print(''.join(out))"
   ]
  }
 ],
 "metadata": {
  "kernelspec": {
   "display_name": "makemore-lm-from-scratch",
   "language": "python",
   "name": "python3"
  },
  "language_info": {
   "codemirror_mode": {
    "name": "ipython",
    "version": 3
   },
   "file_extension": ".py",
   "mimetype": "text/x-python",
   "name": "python",
   "nbconvert_exporter": "python",
   "pygments_lexer": "ipython3",
   "version": "3.12.2"
  }
 },
 "nbformat": 4,
 "nbformat_minor": 2
}
